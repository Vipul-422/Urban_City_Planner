{
  "nbformat": 4,
  "nbformat_minor": 0,
  "metadata": {
    "colab": {
      "provenance": []
    },
    "kernelspec": {
      "name": "python3",
      "display_name": "Python 3"
    },
    "language_info": {
      "name": "python"
    }
  },
  "cells": [
    {
      "cell_type": "code",
      "source": [
        "import random\n",
        "import heapq\n",
        "limit = 0.0005"
      ],
      "metadata": {
        "id": "CSrN1DWC-3F4"
      },
      "execution_count": null,
      "outputs": []
    },
    {
      "cell_type": "code",
      "source": [
        "heap = []\n",
        "for i in range(100000):\n",
        "  curr = 0\n",
        "  x = random.uniform(rangeX)\n",
        "  y = random.uniform(rangeY)\n",
        "  for node in nodes:\n",
        "    if node[0] < x + limit and node[0] > x - limit and node[1] < y + limit and node[1] > y - limit:\n",
        "      curr += 1\n",
        "  heapq.heappush(heap, (-curr, (node[0], node[1])))\n",
        "\n",
        "p1 = heapq.heappop(heap)[1]\n",
        "p2 = heapq.heappop(heap)[1]\n",
        "\n",
        "\n",
        ""
      ],
      "metadata": {
        "id": "vMINuOf8-U6s"
      },
      "execution_count": null,
      "outputs": []
    }
  ]
}